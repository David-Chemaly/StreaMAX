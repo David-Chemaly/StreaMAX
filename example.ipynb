{
 "cells": [
  {
   "cell_type": "code",
   "execution_count": 147,
   "id": "4294e167",
   "metadata": {},
   "outputs": [],
   "source": [
    "%reload_ext autoreload\n",
    "%autoreload 2\n",
    "\n",
    "import jax\n",
    "import jax.numpy as jnp\n",
    "from flax import struct\n",
    "import functools # Import functools for partial methods\n",
    "\n",
    "from utils import get_mat\n",
    "from constants import *\n",
    "\n",
    "from potentials import NFWPotential, PlummerPotential"
   ]
  },
  {
   "cell_type": "code",
   "execution_count": 148,
   "id": "3ef34eb6",
   "metadata": {},
   "outputs": [],
   "source": [
    "from integrants import leapfrog_orbit_step"
   ]
  },
  {
   "cell_type": "code",
   "execution_count": null,
   "id": "592af06c",
   "metadata": {},
   "outputs": [],
   "source": [
    "logM, Rs, q, dirx, diry, dirz = 12.0, 10.0, 0.5, 1.0, 1.0, 1.0\n",
    "x0, y0, z0 = 1.0, 1.0, 1.0\n",
    "vx0, vy0, vz0 = "
   ]
  },
  {
   "cell_type": "code",
   "execution_count": null,
   "id": "9b47c27b",
   "metadata": {},
   "outputs": [],
   "source": [
    "leapfrog_orbit_step()"
   ]
  }
 ],
 "metadata": {
  "kernelspec": {
   "display_name": "Astro",
   "language": "python",
   "name": "python3"
  },
  "language_info": {
   "codemirror_mode": {
    "name": "ipython",
    "version": 3
   },
   "file_extension": ".py",
   "mimetype": "text/x-python",
   "name": "python",
   "nbconvert_exporter": "python",
   "pygments_lexer": "ipython3",
   "version": "3.10.15"
  }
 },
 "nbformat": 4,
 "nbformat_minor": 5
}
